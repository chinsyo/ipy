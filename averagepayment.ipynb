{
 "cells": [
  {
   "cell_type": "code",
   "execution_count": 1,
   "metadata": {},
   "outputs": [],
   "source": [
    "principal = 800000.0\n",
    "\n",
    "percent_interest = 5.39\n",
    "monthly_interest = percent_interest / (100 * 12)\n",
    "\n",
    "years = 25\n",
    "payment_months = years * 12"
   ]
  },
  {
   "cell_type": "code",
   "execution_count": 2,
   "metadata": {},
   "outputs": [
    {
     "name": "stdout",
     "output_type": "stream",
     "text": [
      "4860.285949845428\n"
     ]
    }
   ],
   "source": [
    "monthly_payment = principal * (monthly_interest / (1 - (1 + monthly_interest) ** (-payment_months)))\n",
    "print(monthly_payment)"
   ]
  },
  {
   "cell_type": "code",
   "execution_count": 3,
   "metadata": {},
   "outputs": [
    {
     "name": "stdout",
     "output_type": "stream",
     "text": [
      "1458085.7849536284\n"
     ]
    }
   ],
   "source": [
    "total_cost = payment_months * monthly_payment\n",
    "print(total_cost)"
   ]
  },
  {
   "cell_type": "code",
   "execution_count": 4,
   "metadata": {},
   "outputs": [
    {
     "name": "stdout",
     "output_type": "stream",
     "text": [
      "658085.7849536284\n"
     ]
    }
   ],
   "source": [
    "total_interest = (payment_months * monthly_payment) - principal\n",
    "print(total_interest)"
   ]
  },
  {
   "cell_type": "code",
   "execution_count": null,
   "metadata": {},
   "outputs": [],
   "source": []
  }
 ],
 "metadata": {
  "kernelspec": {
   "display_name": "Python 3",
   "language": "python",
   "name": "python3"
  },
  "language_info": {
   "codemirror_mode": {
    "name": "ipython",
    "version": 3
   },
   "file_extension": ".py",
   "mimetype": "text/x-python",
   "name": "python",
   "nbconvert_exporter": "python",
   "pygments_lexer": "ipython3",
   "version": "3.6.3"
  }
 },
 "nbformat": 4,
 "nbformat_minor": 2
}
