{
 "cells": [
  {
   "cell_type": "code",
   "execution_count": 26,
   "metadata": {},
   "outputs": [],
   "source": [
    "import re\n",
    "import requests\n",
    "from bs4 import BeautifulSoup"
   ]
  },
  {
   "cell_type": "code",
   "execution_count": 50,
   "metadata": {},
   "outputs": [],
   "source": [
    "req = requests.get('http://pvp.qq.com')\n",
    "soup = BeautifulSoup(req.content, 'lxml')\n",
    "link = soup.select('div[class*=\"hero_pic_list\"]')[-1]"
   ]
  },
  {
   "cell_type": "code",
   "execution_count": 64,
   "metadata": {},
   "outputs": [
    {
     "name": "stdout",
     "output_type": "stream",
     "text": [
      "['后羿', '王昭君', '刘邦', '兰陵王', '程咬金', '杨戬', '钟馗']\n"
     ]
    }
   ],
   "source": [
    "freehero = []\n",
    "for hero in link.find_all('a'):\n",
    "    onclick = hero['onclick']\n",
    "    if \"side-freehero-item\" in onclick:\n",
    "        name = re.findall(r\"周免英雄-(.+?)'\", onclick)[0]\n",
    "        freehero.append(name)\n",
    "print(freehero)"
   ]
  }
 ],
 "metadata": {
  "kernelspec": {
   "display_name": "Python 3",
   "language": "python",
   "name": "python3"
  },
  "language_info": {
   "codemirror_mode": {
    "name": "ipython",
    "version": 3
   },
   "file_extension": ".py",
   "mimetype": "text/x-python",
   "name": "python",
   "nbconvert_exporter": "python",
   "pygments_lexer": "ipython3",
   "version": "3.6.3"
  }
 },
 "nbformat": 4,
 "nbformat_minor": 2
}
