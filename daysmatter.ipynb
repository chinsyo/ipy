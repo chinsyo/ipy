{
 "cells": [
  {
   "cell_type": "code",
   "execution_count": 1,
   "metadata": {},
   "outputs": [],
   "source": [
    "from datetime import datetime\n",
    "\n",
    "since = datetime(2015, 10, 1)\n",
    "today = datetime.today()"
   ]
  },
  {
   "cell_type": "code",
   "execution_count": 2,
   "metadata": {},
   "outputs": [
    {
     "name": "stdout",
     "output_type": "stream",
     "text": [
      "你们在一起已经 747 天\n"
     ]
    }
   ],
   "source": [
    "delta = today - since\n",
    "print(f'你们在一起已经 {delta.days} 天')"
   ]
  },
  {
   "cell_type": "code",
   "execution_count": 3,
   "metadata": {},
   "outputs": [
    {
     "name": "stdout",
     "output_type": "stream",
     "text": [
      "距离你们纪念日还有 348 天\n"
     ]
    }
   ],
   "source": [
    "year = today.year if datetime(today.year, since.month, since.day) > today else today.year + 1\n",
    "memday = datetime(year, since.month, since.day)\n",
    "remain = memday - today\n",
    "print(f'距离你们纪念日还有 {remain.days} 天')"
   ]
  }
 ],
 "metadata": {
  "kernelspec": {
   "display_name": "Python 3",
   "language": "python",
   "name": "python3"
  },
  "language_info": {
   "codemirror_mode": {
    "name": "ipython",
    "version": 3
   },
   "file_extension": ".py",
   "mimetype": "text/x-python",
   "name": "python",
   "nbconvert_exporter": "python",
   "pygments_lexer": "ipython3",
   "version": "3.6.3"
  }
 },
 "nbformat": 4,
 "nbformat_minor": 2
}
