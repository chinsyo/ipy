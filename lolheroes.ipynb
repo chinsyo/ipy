{
 "cells": [
  {
   "cell_type": "code",
   "execution_count": 67,
   "metadata": {},
   "outputs": [],
   "source": [
    "import re\n",
    "import json\n",
    "import time\n",
    "import requests\n",
    "from bs4 import BeautifulSoup"
   ]
  },
  {
   "cell_type": "code",
   "execution_count": 68,
   "metadata": {},
   "outputs": [],
   "source": [
    "localtime = time.localtime()\n",
    "url = \"http://lol.qq.com/biz/hero/free.js?v={}\".format(localtime.tm_min)\n",
    "req = requests.get(url)"
   ]
  },
  {
   "cell_type": "code",
   "execution_count": 69,
   "metadata": {},
   "outputs": [],
   "source": [
    "resp = re.findall(r\"LOLherojs.free=(.+?);//*\", req.text)[0]\n",
    "resp = json.loads(resp)\n",
    "\n",
    "data = resp[\"data\"]"
   ]
  },
  {
   "cell_type": "code",
   "execution_count": 79,
   "metadata": {
    "scrolled": true
   },
   "outputs": [
    {
     "name": "stdout",
     "output_type": "stream",
     "text": [
      "0  星界游神\t巴德\n",
      "1  末日使者\t费德提克\n",
      "2 未来守护者\t杰斯\n",
      "3   戏命师\t烬\n",
      "4  不祥之刃\t卡特琳娜\n",
      "5  审判天使\t凯尔\n",
      "6  扭曲树精\t茂凯\n",
      "7    幻翎\t洛\n",
      "8  炼金术士\t辛吉德\n",
      "9  亡灵战神\t赛恩\n",
      "10  河流之王\t塔姆\n",
      "11  机械先驱\t维克托\n",
      "12    逆羽\t霞\n",
      "13  远古巫灵\t泽拉斯\n",
      "周免时间: 2017-11-10 -- 2017-11-17\n"
     ]
    }
   ],
   "source": [
    "for i, v in zip(range(len(data)), data.values()):\n",
    "    print(\"%d %5s\\t%s\" % (i, v[\"name\"], v[\"title\"]))\n",
    "    \n",
    "print(\"周免时间:\", \" -- \".join(jsonfile[\"date\"]))"
   ]
  },
  {
   "cell_type": "code",
   "execution_count": null,
   "metadata": {},
   "outputs": [],
   "source": []
  }
 ],
 "metadata": {
  "kernelspec": {
   "display_name": "Python 3",
   "language": "python",
   "name": "python3"
  },
  "language_info": {
   "codemirror_mode": {
    "name": "ipython",
    "version": 3
   },
   "file_extension": ".py",
   "mimetype": "text/x-python",
   "name": "python",
   "nbconvert_exporter": "python",
   "pygments_lexer": "ipython3",
   "version": "3.6.3"
  }
 },
 "nbformat": 4,
 "nbformat_minor": 2
}
