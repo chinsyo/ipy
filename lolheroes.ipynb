{
 "cells": [
  {
   "cell_type": "code",
   "execution_count": 6,
   "metadata": {},
   "outputs": [],
   "source": [
    "import re\n",
    "import json\n",
    "import time\n",
    "import requests"
   ]
  },
  {
   "cell_type": "code",
   "execution_count": 7,
   "metadata": {},
   "outputs": [],
   "source": [
    "localtime = time.localtime()\n",
    "url = \"http://lol.qq.com/biz/hero/free.js?v={}\".format(localtime.tm_min)\n",
    "req = requests.get(url)"
   ]
  },
  {
   "cell_type": "code",
   "execution_count": 8,
   "metadata": {},
   "outputs": [],
   "source": [
    "resp = re.findall(\"LOLherojs.free=(.+?);$\", req.text)[0]\n",
    "resp = json.loads(resp)\n",
    "\n",
    "data = resp[\"data\"]"
   ]
  },
  {
   "cell_type": "code",
   "execution_count": 9,
   "metadata": {
    "scrolled": true
   },
   "outputs": [
    {
     "name": "stdout",
     "output_type": "stream",
     "text": [
      "1  星界游神\t巴德\n",
      "2  末日使者\t费德提克\n",
      "3 未来守护者\t杰斯\n",
      "4   戏命师\t烬\n",
      "5  不祥之刃\t卡特琳娜\n",
      "6  审判天使\t凯尔\n",
      "7  扭曲树精\t茂凯\n",
      "8    幻翎\t洛\n",
      "9  炼金术士\t辛吉德\n",
      "10  亡灵战神\t赛恩\n",
      "11  河流之王\t塔姆\n",
      "12  机械先驱\t维克托\n",
      "13    逆羽\t霞\n",
      "14  远古巫灵\t泽拉斯\n",
      "周免时间: 2017-11-10 -- 2017-11-17\n"
     ]
    }
   ],
   "source": [
    "for i, v in zip(range(len(data)), data.values()):\n",
    "    print(\"%d %5s\\t%s\" % (i+1, v[\"name\"], v[\"title\"]))\n",
    "    \n",
    "print(\"周免时间:\", \" -- \".join(resp[\"date\"]))"
   ]
  },
  {
   "cell_type": "code",
   "execution_count": null,
   "metadata": {},
   "outputs": [],
   "source": []
  }
 ],
 "metadata": {
  "kernelspec": {
   "display_name": "Python 3",
   "language": "python",
   "name": "python3"
  },
  "language_info": {
   "codemirror_mode": {
    "name": "ipython",
    "version": 3
   },
   "file_extension": ".py",
   "mimetype": "text/x-python",
   "name": "python",
   "nbconvert_exporter": "python",
   "pygments_lexer": "ipython3",
   "version": "3.6.3"
  }
 },
 "nbformat": 4,
 "nbformat_minor": 2
}
